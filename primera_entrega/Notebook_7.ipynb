{
 "cells": [
  {
   "cell_type": "markdown",
   "metadata": {
    "id": "4CoLDDN0Scje"
   },
   "source": [
    "## Programa Ingenias+ Data Science"
   ]
  },
  {
   "cell_type": "markdown",
   "metadata": {
    "id": "Rkizi-vlScjg"
   },
   "source": [
    "## Trabajando con Pandas"
   ]
  },
  {
   "cell_type": "markdown",
   "metadata": {
    "id": "VRd6Ow_aScjg"
   },
   "source": [
    "1) Importa las librerias requeridas: `Pandas` y `NumPy`.  \n",
    "\n",
    "Una buena practica a la hora de escribir codigo es de comentar siempre que estoy haciendo (usando `#`) en la linea anterior. Por mas obvio que parezca lo que voy a hacer, puede ser que tenga que compartir el documento con otras personas y no sepan que quise hacer en cada linea. O que yo mismo lea el codigo tiempo despues y no recuerde porque lo hice."
   ]
  },
  {
   "cell_type": "code",
   "execution_count": 1,
   "metadata": {
    "id": "Anvt8yoSScji"
   },
   "outputs": [],
   "source": [
    "import pandas as pd\n",
    "import numpy as np"
   ]
  },
  {
   "cell_type": "markdown",
   "metadata": {
    "id": "5YWvHd--Scjl"
   },
   "source": [
    "2) Lee el archivo csv `life_expectancy_data` usando `pandas`. Guardalo en una variable llamada `expvida`."
   ]
  },
  {
   "cell_type": "code",
   "execution_count": 62,
   "metadata": {
    "id": "oM1b7mmxScjm"
   },
   "outputs": [],
   "source": [
    "# Leo los datos en un DataFrame\n",
    "expvida = pd.read_csv('life_expectancy_data.csv', delimiter=',')"
   ]
  },
  {
   "cell_type": "markdown",
   "metadata": {
    "id": "-a1OoVvIScjp"
   },
   "source": [
    "3) ¿Que tipo de estructura de datos contiene la variable `expvida`?"
   ]
  },
  {
   "cell_type": "code",
   "execution_count": 17,
   "metadata": {
    "id": "7R6g46UGScjp"
   },
   "outputs": [
    {
     "data": {
      "text/plain": [
       "pandas.core.frame.DataFrame"
      ]
     },
     "execution_count": 17,
     "metadata": {},
     "output_type": "execute_result"
    }
   ],
   "source": [
    "# Obtengo el tipo de estructura de datos\n",
    "type(expvida)"
   ]
  },
  {
   "cell_type": "markdown",
   "metadata": {
    "id": "EBwmuoKKScjv"
   },
   "source": [
    "4) ¿Cuantas filas y columnas tiene `expvida`?"
   ]
  },
  {
   "cell_type": "code",
   "execution_count": 18,
   "metadata": {
    "id": "1oKt4xZmScjw"
   },
   "outputs": [
    {
     "data": {
      "text/plain": [
       "(2938, 22)"
      ]
     },
     "execution_count": 18,
     "metadata": {},
     "output_type": "execute_result"
    }
   ],
   "source": [
    "# Uso .shape para obtener cantidad de filas y columnas\n",
    "expvida.shape"
   ]
  },
  {
   "cell_type": "markdown",
   "metadata": {
    "id": "O-ICrkf6Scj0"
   },
   "source": [
    "**Numero de filas**: 2938"
   ]
  },
  {
   "cell_type": "markdown",
   "metadata": {
    "id": "zXyS8xzFScj0"
   },
   "source": [
    "**Numero de columnas**: 22"
   ]
  },
  {
   "cell_type": "markdown",
   "metadata": {
    "id": "V3cNAjIIScj1"
   },
   "source": [
    "5) ¿Cual es el nombre de las columnas contenidas en `expvida`?"
   ]
  },
  {
   "cell_type": "code",
   "execution_count": 19,
   "metadata": {
    "id": "Cr61t2ALScj2"
   },
   "outputs": [
    {
     "data": {
      "text/plain": [
       "Index(['Country', 'Year', 'Status', 'Life expectancy ', 'Adult Mortality',\n",
       "       'infant deaths', 'Alcohol', 'percentage expenditure', 'Hepatitis B',\n",
       "       'Measles ', ' BMI ', 'under-five deaths ', 'Polio', 'Total expenditure',\n",
       "       'Diphtheria ', ' HIV/AIDS', 'GDP', 'Population',\n",
       "       ' thinness  1-19 years', ' thinness 5-9 years',\n",
       "       'Income composition of resources', 'Schooling'],\n",
       "      dtype='object')"
      ]
     },
     "execution_count": 19,
     "metadata": {},
     "output_type": "execute_result"
    }
   ],
   "source": [
    "# Obtengo el nombre de las columnas\n",
    "expvida.columns"
   ]
  },
  {
   "cell_type": "markdown",
   "metadata": {
    "id": "xbXCaw0mScj5"
   },
   "source": [
    "6) Inspecciona las primeras 10 filas de `expvida`"
   ]
  },
  {
   "cell_type": "code",
   "execution_count": 21,
   "metadata": {
    "id": "WSUs6-wmScj6"
   },
   "outputs": [
    {
     "data": {
      "text/html": [
       "<div>\n",
       "<style scoped>\n",
       "    .dataframe tbody tr th:only-of-type {\n",
       "        vertical-align: middle;\n",
       "    }\n",
       "\n",
       "    .dataframe tbody tr th {\n",
       "        vertical-align: top;\n",
       "    }\n",
       "\n",
       "    .dataframe thead th {\n",
       "        text-align: right;\n",
       "    }\n",
       "</style>\n",
       "<table border=\"1\" class=\"dataframe\">\n",
       "  <thead>\n",
       "    <tr style=\"text-align: right;\">\n",
       "      <th></th>\n",
       "      <th>Country</th>\n",
       "      <th>Year</th>\n",
       "      <th>Status</th>\n",
       "      <th>Life expectancy</th>\n",
       "      <th>Adult Mortality</th>\n",
       "      <th>infant deaths</th>\n",
       "      <th>Alcohol</th>\n",
       "      <th>percentage expenditure</th>\n",
       "      <th>Hepatitis B</th>\n",
       "      <th>Measles</th>\n",
       "      <th>...</th>\n",
       "      <th>Polio</th>\n",
       "      <th>Total expenditure</th>\n",
       "      <th>Diphtheria</th>\n",
       "      <th>HIV/AIDS</th>\n",
       "      <th>GDP</th>\n",
       "      <th>Population</th>\n",
       "      <th>thinness  1-19 years</th>\n",
       "      <th>thinness 5-9 years</th>\n",
       "      <th>Income composition of resources</th>\n",
       "      <th>Schooling</th>\n",
       "    </tr>\n",
       "  </thead>\n",
       "  <tbody>\n",
       "    <tr>\n",
       "      <th>0</th>\n",
       "      <td>Afghanistan</td>\n",
       "      <td>2015</td>\n",
       "      <td>Developing</td>\n",
       "      <td>65.0</td>\n",
       "      <td>263.0</td>\n",
       "      <td>62</td>\n",
       "      <td>0.01</td>\n",
       "      <td>71.279624</td>\n",
       "      <td>65.0</td>\n",
       "      <td>1154</td>\n",
       "      <td>...</td>\n",
       "      <td>6.0</td>\n",
       "      <td>8.16</td>\n",
       "      <td>65.0</td>\n",
       "      <td>0.1</td>\n",
       "      <td>584.259210</td>\n",
       "      <td>33736494.0</td>\n",
       "      <td>17.2</td>\n",
       "      <td>17.3</td>\n",
       "      <td>0.479</td>\n",
       "      <td>10.1</td>\n",
       "    </tr>\n",
       "    <tr>\n",
       "      <th>1</th>\n",
       "      <td>Afghanistan</td>\n",
       "      <td>2014</td>\n",
       "      <td>Developing</td>\n",
       "      <td>59.9</td>\n",
       "      <td>271.0</td>\n",
       "      <td>64</td>\n",
       "      <td>0.01</td>\n",
       "      <td>73.523582</td>\n",
       "      <td>62.0</td>\n",
       "      <td>492</td>\n",
       "      <td>...</td>\n",
       "      <td>58.0</td>\n",
       "      <td>8.18</td>\n",
       "      <td>62.0</td>\n",
       "      <td>0.1</td>\n",
       "      <td>612.696514</td>\n",
       "      <td>327582.0</td>\n",
       "      <td>17.5</td>\n",
       "      <td>17.5</td>\n",
       "      <td>0.476</td>\n",
       "      <td>10.0</td>\n",
       "    </tr>\n",
       "    <tr>\n",
       "      <th>2</th>\n",
       "      <td>Afghanistan</td>\n",
       "      <td>2013</td>\n",
       "      <td>Developing</td>\n",
       "      <td>59.9</td>\n",
       "      <td>268.0</td>\n",
       "      <td>66</td>\n",
       "      <td>0.01</td>\n",
       "      <td>73.219243</td>\n",
       "      <td>64.0</td>\n",
       "      <td>430</td>\n",
       "      <td>...</td>\n",
       "      <td>62.0</td>\n",
       "      <td>8.13</td>\n",
       "      <td>64.0</td>\n",
       "      <td>0.1</td>\n",
       "      <td>631.744976</td>\n",
       "      <td>31731688.0</td>\n",
       "      <td>17.7</td>\n",
       "      <td>17.7</td>\n",
       "      <td>0.470</td>\n",
       "      <td>9.9</td>\n",
       "    </tr>\n",
       "    <tr>\n",
       "      <th>3</th>\n",
       "      <td>Afghanistan</td>\n",
       "      <td>2012</td>\n",
       "      <td>Developing</td>\n",
       "      <td>59.5</td>\n",
       "      <td>272.0</td>\n",
       "      <td>69</td>\n",
       "      <td>0.01</td>\n",
       "      <td>78.184215</td>\n",
       "      <td>67.0</td>\n",
       "      <td>2787</td>\n",
       "      <td>...</td>\n",
       "      <td>67.0</td>\n",
       "      <td>8.52</td>\n",
       "      <td>67.0</td>\n",
       "      <td>0.1</td>\n",
       "      <td>669.959000</td>\n",
       "      <td>3696958.0</td>\n",
       "      <td>17.9</td>\n",
       "      <td>18.0</td>\n",
       "      <td>0.463</td>\n",
       "      <td>9.8</td>\n",
       "    </tr>\n",
       "    <tr>\n",
       "      <th>4</th>\n",
       "      <td>Afghanistan</td>\n",
       "      <td>2011</td>\n",
       "      <td>Developing</td>\n",
       "      <td>59.2</td>\n",
       "      <td>275.0</td>\n",
       "      <td>71</td>\n",
       "      <td>0.01</td>\n",
       "      <td>7.097109</td>\n",
       "      <td>68.0</td>\n",
       "      <td>3013</td>\n",
       "      <td>...</td>\n",
       "      <td>68.0</td>\n",
       "      <td>7.87</td>\n",
       "      <td>68.0</td>\n",
       "      <td>0.1</td>\n",
       "      <td>63.537231</td>\n",
       "      <td>2978599.0</td>\n",
       "      <td>18.2</td>\n",
       "      <td>18.2</td>\n",
       "      <td>0.454</td>\n",
       "      <td>9.5</td>\n",
       "    </tr>\n",
       "    <tr>\n",
       "      <th>5</th>\n",
       "      <td>Afghanistan</td>\n",
       "      <td>2010</td>\n",
       "      <td>Developing</td>\n",
       "      <td>58.8</td>\n",
       "      <td>279.0</td>\n",
       "      <td>74</td>\n",
       "      <td>0.01</td>\n",
       "      <td>79.679367</td>\n",
       "      <td>66.0</td>\n",
       "      <td>1989</td>\n",
       "      <td>...</td>\n",
       "      <td>66.0</td>\n",
       "      <td>9.20</td>\n",
       "      <td>66.0</td>\n",
       "      <td>0.1</td>\n",
       "      <td>553.328940</td>\n",
       "      <td>2883167.0</td>\n",
       "      <td>18.4</td>\n",
       "      <td>18.4</td>\n",
       "      <td>0.448</td>\n",
       "      <td>9.2</td>\n",
       "    </tr>\n",
       "    <tr>\n",
       "      <th>6</th>\n",
       "      <td>Afghanistan</td>\n",
       "      <td>2009</td>\n",
       "      <td>Developing</td>\n",
       "      <td>58.6</td>\n",
       "      <td>281.0</td>\n",
       "      <td>77</td>\n",
       "      <td>0.01</td>\n",
       "      <td>56.762217</td>\n",
       "      <td>63.0</td>\n",
       "      <td>2861</td>\n",
       "      <td>...</td>\n",
       "      <td>63.0</td>\n",
       "      <td>9.42</td>\n",
       "      <td>63.0</td>\n",
       "      <td>0.1</td>\n",
       "      <td>445.893298</td>\n",
       "      <td>284331.0</td>\n",
       "      <td>18.6</td>\n",
       "      <td>18.7</td>\n",
       "      <td>0.434</td>\n",
       "      <td>8.9</td>\n",
       "    </tr>\n",
       "    <tr>\n",
       "      <th>7</th>\n",
       "      <td>Afghanistan</td>\n",
       "      <td>2008</td>\n",
       "      <td>Developing</td>\n",
       "      <td>58.1</td>\n",
       "      <td>287.0</td>\n",
       "      <td>80</td>\n",
       "      <td>0.03</td>\n",
       "      <td>25.873925</td>\n",
       "      <td>64.0</td>\n",
       "      <td>1599</td>\n",
       "      <td>...</td>\n",
       "      <td>64.0</td>\n",
       "      <td>8.33</td>\n",
       "      <td>64.0</td>\n",
       "      <td>0.1</td>\n",
       "      <td>373.361116</td>\n",
       "      <td>2729431.0</td>\n",
       "      <td>18.8</td>\n",
       "      <td>18.9</td>\n",
       "      <td>0.433</td>\n",
       "      <td>8.7</td>\n",
       "    </tr>\n",
       "    <tr>\n",
       "      <th>8</th>\n",
       "      <td>Afghanistan</td>\n",
       "      <td>2007</td>\n",
       "      <td>Developing</td>\n",
       "      <td>57.5</td>\n",
       "      <td>295.0</td>\n",
       "      <td>82</td>\n",
       "      <td>0.02</td>\n",
       "      <td>10.910156</td>\n",
       "      <td>63.0</td>\n",
       "      <td>1141</td>\n",
       "      <td>...</td>\n",
       "      <td>63.0</td>\n",
       "      <td>6.73</td>\n",
       "      <td>63.0</td>\n",
       "      <td>0.1</td>\n",
       "      <td>369.835796</td>\n",
       "      <td>26616792.0</td>\n",
       "      <td>19.0</td>\n",
       "      <td>19.1</td>\n",
       "      <td>0.415</td>\n",
       "      <td>8.4</td>\n",
       "    </tr>\n",
       "    <tr>\n",
       "      <th>9</th>\n",
       "      <td>Afghanistan</td>\n",
       "      <td>2006</td>\n",
       "      <td>Developing</td>\n",
       "      <td>57.3</td>\n",
       "      <td>295.0</td>\n",
       "      <td>84</td>\n",
       "      <td>0.03</td>\n",
       "      <td>17.171518</td>\n",
       "      <td>64.0</td>\n",
       "      <td>1990</td>\n",
       "      <td>...</td>\n",
       "      <td>58.0</td>\n",
       "      <td>7.43</td>\n",
       "      <td>58.0</td>\n",
       "      <td>0.1</td>\n",
       "      <td>272.563770</td>\n",
       "      <td>2589345.0</td>\n",
       "      <td>19.2</td>\n",
       "      <td>19.3</td>\n",
       "      <td>0.405</td>\n",
       "      <td>8.1</td>\n",
       "    </tr>\n",
       "  </tbody>\n",
       "</table>\n",
       "<p>10 rows × 22 columns</p>\n",
       "</div>"
      ],
      "text/plain": [
       "       Country  Year      Status  Life expectancy   Adult Mortality  \\\n",
       "0  Afghanistan  2015  Developing              65.0            263.0   \n",
       "1  Afghanistan  2014  Developing              59.9            271.0   \n",
       "2  Afghanistan  2013  Developing              59.9            268.0   \n",
       "3  Afghanistan  2012  Developing              59.5            272.0   \n",
       "4  Afghanistan  2011  Developing              59.2            275.0   \n",
       "5  Afghanistan  2010  Developing              58.8            279.0   \n",
       "6  Afghanistan  2009  Developing              58.6            281.0   \n",
       "7  Afghanistan  2008  Developing              58.1            287.0   \n",
       "8  Afghanistan  2007  Developing              57.5            295.0   \n",
       "9  Afghanistan  2006  Developing              57.3            295.0   \n",
       "\n",
       "   infant deaths  Alcohol  percentage expenditure  Hepatitis B  Measles   ...  \\\n",
       "0             62     0.01               71.279624         65.0      1154  ...   \n",
       "1             64     0.01               73.523582         62.0       492  ...   \n",
       "2             66     0.01               73.219243         64.0       430  ...   \n",
       "3             69     0.01               78.184215         67.0      2787  ...   \n",
       "4             71     0.01                7.097109         68.0      3013  ...   \n",
       "5             74     0.01               79.679367         66.0      1989  ...   \n",
       "6             77     0.01               56.762217         63.0      2861  ...   \n",
       "7             80     0.03               25.873925         64.0      1599  ...   \n",
       "8             82     0.02               10.910156         63.0      1141  ...   \n",
       "9             84     0.03               17.171518         64.0      1990  ...   \n",
       "\n",
       "   Polio  Total expenditure  Diphtheria    HIV/AIDS         GDP  Population  \\\n",
       "0    6.0               8.16         65.0        0.1  584.259210  33736494.0   \n",
       "1   58.0               8.18         62.0        0.1  612.696514    327582.0   \n",
       "2   62.0               8.13         64.0        0.1  631.744976  31731688.0   \n",
       "3   67.0               8.52         67.0        0.1  669.959000   3696958.0   \n",
       "4   68.0               7.87         68.0        0.1   63.537231   2978599.0   \n",
       "5   66.0               9.20         66.0        0.1  553.328940   2883167.0   \n",
       "6   63.0               9.42         63.0        0.1  445.893298    284331.0   \n",
       "7   64.0               8.33         64.0        0.1  373.361116   2729431.0   \n",
       "8   63.0               6.73         63.0        0.1  369.835796  26616792.0   \n",
       "9   58.0               7.43         58.0        0.1  272.563770   2589345.0   \n",
       "\n",
       "    thinness  1-19 years   thinness 5-9 years  \\\n",
       "0                   17.2                 17.3   \n",
       "1                   17.5                 17.5   \n",
       "2                   17.7                 17.7   \n",
       "3                   17.9                 18.0   \n",
       "4                   18.2                 18.2   \n",
       "5                   18.4                 18.4   \n",
       "6                   18.6                 18.7   \n",
       "7                   18.8                 18.9   \n",
       "8                   19.0                 19.1   \n",
       "9                   19.2                 19.3   \n",
       "\n",
       "   Income composition of resources  Schooling  \n",
       "0                            0.479       10.1  \n",
       "1                            0.476       10.0  \n",
       "2                            0.470        9.9  \n",
       "3                            0.463        9.8  \n",
       "4                            0.454        9.5  \n",
       "5                            0.448        9.2  \n",
       "6                            0.434        8.9  \n",
       "7                            0.433        8.7  \n",
       "8                            0.415        8.4  \n",
       "9                            0.405        8.1  \n",
       "\n",
       "[10 rows x 22 columns]"
      ]
     },
     "execution_count": 21,
     "metadata": {},
     "output_type": "execute_result"
    }
   ],
   "source": [
    "# Inspecciono las primeras filas\n",
    "expvida.head(10)"
   ]
  },
  {
   "cell_type": "markdown",
   "metadata": {
    "id": "99b7sMhZScj_"
   },
   "source": [
    "7) Y ahora las 10 ultimas."
   ]
  },
  {
   "cell_type": "code",
   "execution_count": 63,
   "metadata": {
    "id": "yaMMoHc7Scj_"
   },
   "outputs": [
    {
     "data": {
      "text/html": [
       "<div>\n",
       "<style scoped>\n",
       "    .dataframe tbody tr th:only-of-type {\n",
       "        vertical-align: middle;\n",
       "    }\n",
       "\n",
       "    .dataframe tbody tr th {\n",
       "        vertical-align: top;\n",
       "    }\n",
       "\n",
       "    .dataframe thead th {\n",
       "        text-align: right;\n",
       "    }\n",
       "</style>\n",
       "<table border=\"1\" class=\"dataframe\">\n",
       "  <thead>\n",
       "    <tr style=\"text-align: right;\">\n",
       "      <th></th>\n",
       "      <th>Country</th>\n",
       "      <th>Year</th>\n",
       "      <th>Status</th>\n",
       "      <th>Life expectancy</th>\n",
       "      <th>Adult Mortality</th>\n",
       "      <th>infant deaths</th>\n",
       "      <th>Alcohol</th>\n",
       "      <th>percentage expenditure</th>\n",
       "      <th>Hepatitis B</th>\n",
       "      <th>Measles</th>\n",
       "      <th>...</th>\n",
       "      <th>Polio</th>\n",
       "      <th>Total expenditure</th>\n",
       "      <th>Diphtheria</th>\n",
       "      <th>HIV/AIDS</th>\n",
       "      <th>GDP</th>\n",
       "      <th>Population</th>\n",
       "      <th>thinness  1-19 years</th>\n",
       "      <th>thinness 5-9 years</th>\n",
       "      <th>Income composition of resources</th>\n",
       "      <th>Schooling</th>\n",
       "    </tr>\n",
       "  </thead>\n",
       "  <tbody>\n",
       "    <tr>\n",
       "      <th>2928</th>\n",
       "      <td>Zimbabwe</td>\n",
       "      <td>2009</td>\n",
       "      <td>Developing</td>\n",
       "      <td>50.0</td>\n",
       "      <td>587.0</td>\n",
       "      <td>30</td>\n",
       "      <td>4.64</td>\n",
       "      <td>1.040021</td>\n",
       "      <td>73.0</td>\n",
       "      <td>853</td>\n",
       "      <td>...</td>\n",
       "      <td>69.0</td>\n",
       "      <td>6.26</td>\n",
       "      <td>73.0</td>\n",
       "      <td>18.1</td>\n",
       "      <td>65.824121</td>\n",
       "      <td>1381599.0</td>\n",
       "      <td>7.5</td>\n",
       "      <td>7.4</td>\n",
       "      <td>0.419</td>\n",
       "      <td>9.9</td>\n",
       "    </tr>\n",
       "    <tr>\n",
       "      <th>2929</th>\n",
       "      <td>Zimbabwe</td>\n",
       "      <td>2008</td>\n",
       "      <td>Developing</td>\n",
       "      <td>48.2</td>\n",
       "      <td>632.0</td>\n",
       "      <td>30</td>\n",
       "      <td>3.56</td>\n",
       "      <td>20.843429</td>\n",
       "      <td>75.0</td>\n",
       "      <td>0</td>\n",
       "      <td>...</td>\n",
       "      <td>75.0</td>\n",
       "      <td>4.96</td>\n",
       "      <td>75.0</td>\n",
       "      <td>20.5</td>\n",
       "      <td>325.678573</td>\n",
       "      <td>13558469.0</td>\n",
       "      <td>7.8</td>\n",
       "      <td>7.8</td>\n",
       "      <td>0.421</td>\n",
       "      <td>9.7</td>\n",
       "    </tr>\n",
       "    <tr>\n",
       "      <th>2930</th>\n",
       "      <td>Zimbabwe</td>\n",
       "      <td>2007</td>\n",
       "      <td>Developing</td>\n",
       "      <td>46.6</td>\n",
       "      <td>67.0</td>\n",
       "      <td>29</td>\n",
       "      <td>3.88</td>\n",
       "      <td>29.814566</td>\n",
       "      <td>72.0</td>\n",
       "      <td>242</td>\n",
       "      <td>...</td>\n",
       "      <td>73.0</td>\n",
       "      <td>4.47</td>\n",
       "      <td>73.0</td>\n",
       "      <td>23.7</td>\n",
       "      <td>396.998217</td>\n",
       "      <td>1332999.0</td>\n",
       "      <td>8.2</td>\n",
       "      <td>8.2</td>\n",
       "      <td>0.414</td>\n",
       "      <td>9.6</td>\n",
       "    </tr>\n",
       "    <tr>\n",
       "      <th>2931</th>\n",
       "      <td>Zimbabwe</td>\n",
       "      <td>2006</td>\n",
       "      <td>Developing</td>\n",
       "      <td>45.4</td>\n",
       "      <td>7.0</td>\n",
       "      <td>28</td>\n",
       "      <td>4.57</td>\n",
       "      <td>34.262169</td>\n",
       "      <td>68.0</td>\n",
       "      <td>212</td>\n",
       "      <td>...</td>\n",
       "      <td>71.0</td>\n",
       "      <td>5.12</td>\n",
       "      <td>7.0</td>\n",
       "      <td>26.8</td>\n",
       "      <td>414.796232</td>\n",
       "      <td>13124267.0</td>\n",
       "      <td>8.6</td>\n",
       "      <td>8.6</td>\n",
       "      <td>0.408</td>\n",
       "      <td>9.5</td>\n",
       "    </tr>\n",
       "    <tr>\n",
       "      <th>2932</th>\n",
       "      <td>Zimbabwe</td>\n",
       "      <td>2005</td>\n",
       "      <td>Developing</td>\n",
       "      <td>44.6</td>\n",
       "      <td>717.0</td>\n",
       "      <td>28</td>\n",
       "      <td>4.14</td>\n",
       "      <td>8.717409</td>\n",
       "      <td>65.0</td>\n",
       "      <td>420</td>\n",
       "      <td>...</td>\n",
       "      <td>69.0</td>\n",
       "      <td>6.44</td>\n",
       "      <td>68.0</td>\n",
       "      <td>30.3</td>\n",
       "      <td>444.765750</td>\n",
       "      <td>129432.0</td>\n",
       "      <td>9.0</td>\n",
       "      <td>9.0</td>\n",
       "      <td>0.406</td>\n",
       "      <td>9.3</td>\n",
       "    </tr>\n",
       "    <tr>\n",
       "      <th>2933</th>\n",
       "      <td>Zimbabwe</td>\n",
       "      <td>2004</td>\n",
       "      <td>Developing</td>\n",
       "      <td>44.3</td>\n",
       "      <td>723.0</td>\n",
       "      <td>27</td>\n",
       "      <td>4.36</td>\n",
       "      <td>0.000000</td>\n",
       "      <td>68.0</td>\n",
       "      <td>31</td>\n",
       "      <td>...</td>\n",
       "      <td>67.0</td>\n",
       "      <td>7.13</td>\n",
       "      <td>65.0</td>\n",
       "      <td>33.6</td>\n",
       "      <td>454.366654</td>\n",
       "      <td>12777511.0</td>\n",
       "      <td>9.4</td>\n",
       "      <td>9.4</td>\n",
       "      <td>0.407</td>\n",
       "      <td>9.2</td>\n",
       "    </tr>\n",
       "    <tr>\n",
       "      <th>2934</th>\n",
       "      <td>Zimbabwe</td>\n",
       "      <td>2003</td>\n",
       "      <td>Developing</td>\n",
       "      <td>44.5</td>\n",
       "      <td>715.0</td>\n",
       "      <td>26</td>\n",
       "      <td>4.06</td>\n",
       "      <td>0.000000</td>\n",
       "      <td>7.0</td>\n",
       "      <td>998</td>\n",
       "      <td>...</td>\n",
       "      <td>7.0</td>\n",
       "      <td>6.52</td>\n",
       "      <td>68.0</td>\n",
       "      <td>36.7</td>\n",
       "      <td>453.351155</td>\n",
       "      <td>12633897.0</td>\n",
       "      <td>9.8</td>\n",
       "      <td>9.9</td>\n",
       "      <td>0.418</td>\n",
       "      <td>9.5</td>\n",
       "    </tr>\n",
       "    <tr>\n",
       "      <th>2935</th>\n",
       "      <td>Zimbabwe</td>\n",
       "      <td>2002</td>\n",
       "      <td>Developing</td>\n",
       "      <td>44.8</td>\n",
       "      <td>73.0</td>\n",
       "      <td>25</td>\n",
       "      <td>4.43</td>\n",
       "      <td>0.000000</td>\n",
       "      <td>73.0</td>\n",
       "      <td>304</td>\n",
       "      <td>...</td>\n",
       "      <td>73.0</td>\n",
       "      <td>6.53</td>\n",
       "      <td>71.0</td>\n",
       "      <td>39.8</td>\n",
       "      <td>57.348340</td>\n",
       "      <td>125525.0</td>\n",
       "      <td>1.2</td>\n",
       "      <td>1.3</td>\n",
       "      <td>0.427</td>\n",
       "      <td>10.0</td>\n",
       "    </tr>\n",
       "    <tr>\n",
       "      <th>2936</th>\n",
       "      <td>Zimbabwe</td>\n",
       "      <td>2001</td>\n",
       "      <td>Developing</td>\n",
       "      <td>45.3</td>\n",
       "      <td>686.0</td>\n",
       "      <td>25</td>\n",
       "      <td>1.72</td>\n",
       "      <td>0.000000</td>\n",
       "      <td>76.0</td>\n",
       "      <td>529</td>\n",
       "      <td>...</td>\n",
       "      <td>76.0</td>\n",
       "      <td>6.16</td>\n",
       "      <td>75.0</td>\n",
       "      <td>42.1</td>\n",
       "      <td>548.587312</td>\n",
       "      <td>12366165.0</td>\n",
       "      <td>1.6</td>\n",
       "      <td>1.7</td>\n",
       "      <td>0.427</td>\n",
       "      <td>9.8</td>\n",
       "    </tr>\n",
       "    <tr>\n",
       "      <th>2937</th>\n",
       "      <td>Zimbabwe</td>\n",
       "      <td>2000</td>\n",
       "      <td>Developing</td>\n",
       "      <td>46.0</td>\n",
       "      <td>665.0</td>\n",
       "      <td>24</td>\n",
       "      <td>1.68</td>\n",
       "      <td>0.000000</td>\n",
       "      <td>79.0</td>\n",
       "      <td>1483</td>\n",
       "      <td>...</td>\n",
       "      <td>78.0</td>\n",
       "      <td>7.10</td>\n",
       "      <td>78.0</td>\n",
       "      <td>43.5</td>\n",
       "      <td>547.358878</td>\n",
       "      <td>12222251.0</td>\n",
       "      <td>11.0</td>\n",
       "      <td>11.2</td>\n",
       "      <td>0.434</td>\n",
       "      <td>9.8</td>\n",
       "    </tr>\n",
       "  </tbody>\n",
       "</table>\n",
       "<p>10 rows × 22 columns</p>\n",
       "</div>"
      ],
      "text/plain": [
       "       Country  Year      Status  Life expectancy   Adult Mortality  \\\n",
       "2928  Zimbabwe  2009  Developing              50.0            587.0   \n",
       "2929  Zimbabwe  2008  Developing              48.2            632.0   \n",
       "2930  Zimbabwe  2007  Developing              46.6             67.0   \n",
       "2931  Zimbabwe  2006  Developing              45.4              7.0   \n",
       "2932  Zimbabwe  2005  Developing              44.6            717.0   \n",
       "2933  Zimbabwe  2004  Developing              44.3            723.0   \n",
       "2934  Zimbabwe  2003  Developing              44.5            715.0   \n",
       "2935  Zimbabwe  2002  Developing              44.8             73.0   \n",
       "2936  Zimbabwe  2001  Developing              45.3            686.0   \n",
       "2937  Zimbabwe  2000  Developing              46.0            665.0   \n",
       "\n",
       "      infant deaths  Alcohol  percentage expenditure  Hepatitis B  Measles   \\\n",
       "2928             30     4.64                1.040021         73.0       853   \n",
       "2929             30     3.56               20.843429         75.0         0   \n",
       "2930             29     3.88               29.814566         72.0       242   \n",
       "2931             28     4.57               34.262169         68.0       212   \n",
       "2932             28     4.14                8.717409         65.0       420   \n",
       "2933             27     4.36                0.000000         68.0        31   \n",
       "2934             26     4.06                0.000000          7.0       998   \n",
       "2935             25     4.43                0.000000         73.0       304   \n",
       "2936             25     1.72                0.000000         76.0       529   \n",
       "2937             24     1.68                0.000000         79.0      1483   \n",
       "\n",
       "      ...  Polio  Total expenditure  Diphtheria    HIV/AIDS         GDP  \\\n",
       "2928  ...   69.0               6.26         73.0       18.1   65.824121   \n",
       "2929  ...   75.0               4.96         75.0       20.5  325.678573   \n",
       "2930  ...   73.0               4.47         73.0       23.7  396.998217   \n",
       "2931  ...   71.0               5.12          7.0       26.8  414.796232   \n",
       "2932  ...   69.0               6.44         68.0       30.3  444.765750   \n",
       "2933  ...   67.0               7.13         65.0       33.6  454.366654   \n",
       "2934  ...    7.0               6.52         68.0       36.7  453.351155   \n",
       "2935  ...   73.0               6.53         71.0       39.8   57.348340   \n",
       "2936  ...   76.0               6.16         75.0       42.1  548.587312   \n",
       "2937  ...   78.0               7.10         78.0       43.5  547.358878   \n",
       "\n",
       "      Population   thinness  1-19 years   thinness 5-9 years  \\\n",
       "2928   1381599.0                    7.5                  7.4   \n",
       "2929  13558469.0                    7.8                  7.8   \n",
       "2930   1332999.0                    8.2                  8.2   \n",
       "2931  13124267.0                    8.6                  8.6   \n",
       "2932    129432.0                    9.0                  9.0   \n",
       "2933  12777511.0                    9.4                  9.4   \n",
       "2934  12633897.0                    9.8                  9.9   \n",
       "2935    125525.0                    1.2                  1.3   \n",
       "2936  12366165.0                    1.6                  1.7   \n",
       "2937  12222251.0                   11.0                 11.2   \n",
       "\n",
       "      Income composition of resources  Schooling  \n",
       "2928                            0.419        9.9  \n",
       "2929                            0.421        9.7  \n",
       "2930                            0.414        9.6  \n",
       "2931                            0.408        9.5  \n",
       "2932                            0.406        9.3  \n",
       "2933                            0.407        9.2  \n",
       "2934                            0.418        9.5  \n",
       "2935                            0.427       10.0  \n",
       "2936                            0.427        9.8  \n",
       "2937                            0.434        9.8  \n",
       "\n",
       "[10 rows x 22 columns]"
      ]
     },
     "execution_count": 63,
     "metadata": {},
     "output_type": "execute_result"
    }
   ],
   "source": [
    "# Inspecciono las ultimas filas\n",
    "expvida.tail(10)"
   ]
  },
  {
   "cell_type": "markdown",
   "metadata": {
    "id": "thLRW3GjSckC"
   },
   "source": [
    "8) ¿Que tipos de datos contiene cada una de las columnas de `expvida`?"
   ]
  },
  {
   "cell_type": "code",
   "execution_count": 25,
   "metadata": {
    "id": "AfAgFAJdSckD"
   },
   "outputs": [
    {
     "data": {
      "text/plain": [
       "Country                             object\n",
       "Year                                 int64\n",
       "Status                              object\n",
       "Life expectancy                    float64\n",
       "Adult Mortality                    float64\n",
       "infant deaths                        int64\n",
       "Alcohol                            float64\n",
       "percentage expenditure             float64\n",
       "Hepatitis B                        float64\n",
       "Measles                              int64\n",
       " BMI                               float64\n",
       "under-five deaths                    int64\n",
       "Polio                              float64\n",
       "Total expenditure                  float64\n",
       "Diphtheria                         float64\n",
       " HIV/AIDS                          float64\n",
       "GDP                                float64\n",
       "Population                         float64\n",
       " thinness  1-19 years              float64\n",
       " thinness 5-9 years                float64\n",
       "Income composition of resources    float64\n",
       "Schooling                          float64\n",
       "dtype: object"
      ]
     },
     "execution_count": 25,
     "metadata": {},
     "output_type": "execute_result"
    }
   ],
   "source": [
    "# Tipo de datos en cada columna\n",
    "expvida.dtypes"
   ]
  },
  {
   "cell_type": "markdown",
   "metadata": {
    "id": "7Nsyhb7LSckG"
   },
   "source": [
    "9) ¿Hay valores faltantes en alguna de las columnas de `expvida`?"
   ]
  },
  {
   "cell_type": "code",
   "execution_count": 61,
   "metadata": {
    "id": "DP_IgUWzSckI"
   },
   "outputs": [
    {
     "name": "stdout",
     "output_type": "stream",
     "text": [
      "Country                              0\n",
      "Year                                 0\n",
      "Status                               0\n",
      "Life expectancy                     10\n",
      "Adult Mortality                     10\n",
      "infant deaths                        0\n",
      "Alcohol                            194\n",
      "percentage expenditure               0\n",
      "Hepatitis B                        553\n",
      "Measles                              0\n",
      " BMI                                34\n",
      "under-five deaths                    0\n",
      "Polio                               19\n",
      "Total expenditure                  226\n",
      "Diphtheria                          19\n",
      " HIV/AIDS                            0\n",
      "GDP                                448\n",
      "Population                         652\n",
      " thinness  1-19 years               34\n",
      " thinness 5-9 years                 34\n",
      "Income composition of resources    167\n",
      "Schooling                          163\n",
      "dtype: int64\n"
     ]
    }
   ],
   "source": [
    "# Obtengo la cantidad de datos faltantes en cada columna\n",
    "cant_faltantes_columna=expvida.isnull().sum()\n",
    "print(cant_faltantes_columna)"
   ]
  },
  {
   "cell_type": "markdown",
   "metadata": {
    "id": "Q7-bL4tlSckL"
   },
   "source": [
    "10) Selecciona el maximo de datos faltantes. Calcula que porcentaje de los datos representan los datos faltantes."
   ]
  },
  {
   "cell_type": "code",
   "execution_count": 33,
   "metadata": {
    "id": "gicdHYh0SckM"
   },
   "outputs": [
    {
     "name": "stdout",
     "output_type": "stream",
     "text": [
      "Maximo valor de datos faltantes :  652\n"
     ]
    }
   ],
   "source": [
    "# Obtengo el maximo valor de datos faltantes y lo guardo en la variable masnan\n",
    "masnan = cant_faltantes_columna.max()\n",
    "print('Maximo valor de datos faltantes : ',masnan)"
   ]
  },
  {
   "cell_type": "code",
   "execution_count": 43,
   "metadata": {
    "id": "RuRgzIFBSckT"
   },
   "outputs": [],
   "source": [
    "# Obtengo la cantidad de filas total y divido el maximo valor de datos faltantes por este numero\n",
    "# y lo multiplico por 100\n",
    "f_totales = expvida.shape[0]\n",
    "porcentaje = masnan/f_totales*100"
   ]
  },
  {
   "cell_type": "code",
   "execution_count": 44,
   "metadata": {
    "id": "1NIY9qQBSckX"
   },
   "outputs": [
    {
     "name": "stdout",
     "output_type": "stream",
     "text": [
      "Maximo porcentaje de datos faltantes : 22.19\n"
     ]
    }
   ],
   "source": [
    "# Imprimo el maximo porcentaje de datos faltantes. Uso f-strings.\n",
    "print(f'Maximo porcentaje de datos faltantes : {porcentaje:.2f}')"
   ]
  },
  {
   "cell_type": "markdown",
   "metadata": {
    "id": "r0ukORx9Sckg"
   },
   "source": [
    "- str.format()\n",
    "- Template Class\n",
    "- f-strings"
   ]
  },
  {
   "cell_type": "markdown",
   "metadata": {
    "id": "hUXqdma_Sckj"
   },
   "source": [
    "#### Ahora vamos a realizar algunos calculos y manipulaciones sobre las columnas."
   ]
  },
  {
   "cell_type": "markdown",
   "metadata": {
    "id": "eBzg8GYGSckk"
   },
   "source": [
    "Una función útil para este fin es: `.rename()`. Y podemos utilizarla de la siguiente manera: Si `df` es mi DataFrame y quiero renombrar la columna `columna` como `columna1`, y la columna `columna2` como `columna3`, utilizo la siguiente sintaxis:\n",
    "  \n",
    "`df.rename(columns={\"columna\": \"columna1\", \"columna2\": \"columna3\"}, inplace=True)`"
   ]
  },
  {
   "cell_type": "markdown",
   "metadata": {
    "id": "EYINiSHdSckl"
   },
   "source": [
    "11) Renombra la columna 'Life expectancy ' como 'life_expectancy', ' BMI ' como 'bmi' y ''Measles ' como 'measles'. No olvides de usar `inplace` para modificar el DataFrame original. Luego chequea que el cambio se haya hecho correctamente."
   ]
  },
  {
   "cell_type": "code",
   "execution_count": 69,
   "metadata": {
    "id": "TL4b2ueXSckm"
   },
   "outputs": [],
   "source": [
    "# Renombro columnas del DataFrame\n",
    "expvida.rename(columns={'Life expectancy ':'life_expectancy', ' BMI ': 'bmi', 'Measles ':'measles'}, inplace = True)"
   ]
  },
  {
   "cell_type": "code",
   "execution_count": 71,
   "metadata": {
    "id": "r1RVoERMSckp"
   },
   "outputs": [
    {
     "data": {
      "text/plain": [
       "Index(['Country', 'Year', 'Status', 'life_expectancy', 'Adult Mortality',\n",
       "       'infant deaths', 'Alcohol', 'percentage expenditure', 'Hepatitis B',\n",
       "       'measles', 'bmi', 'under-five deaths ', 'Polio', 'Total expenditure',\n",
       "       'Diphtheria ', ' HIV/AIDS', 'GDP', 'Population',\n",
       "       ' thinness  1-19 years', ' thinness 5-9 years',\n",
       "       'Income composition of resources', 'Schooling'],\n",
       "      dtype='object')"
      ]
     },
     "execution_count": 71,
     "metadata": {},
     "output_type": "execute_result"
    }
   ],
   "source": [
    "# Chequeo que se hayan reemplazado correctamente\n",
    "expvida.columns"
   ]
  },
  {
   "cell_type": "markdown",
   "metadata": {
    "id": "cNXpOsdiScks"
   },
   "source": [
    "12) ¿Cual es el promedio de expectativa de vida (Life expectancy) en general?"
   ]
  },
  {
   "cell_type": "code",
   "execution_count": 79,
   "metadata": {
    "id": "OYv3yiXmSckt"
   },
   "outputs": [
    {
     "name": "stdout",
     "output_type": "stream",
     "text": [
      "Promedio: 69.22\n"
     ]
    }
   ],
   "source": [
    "# Obtengo el promedio de la columna\n",
    "promedio_l = expvida['life_expectancy'].mean()\n",
    "print(f'Promedio: {promedio_l:.2f}')"
   ]
  },
  {
   "cell_type": "markdown",
   "metadata": {
    "id": "A-bzQhFqSckw"
   },
   "source": [
    "13) ¿Cual es el promedio de expectativa de vida (Life expectancy) por país?"
   ]
  },
  {
   "cell_type": "code",
   "execution_count": 103,
   "metadata": {
    "id": "eWN_AJPMSckx"
   },
   "outputs": [
    {
     "name": "stdout",
     "output_type": "stream",
     "text": [
      "Promedio por pais : Country\n",
      "Afghanistan                           58.19375\n",
      "Albania                               75.15625\n",
      "Algeria                               73.61875\n",
      "Angola                                49.01875\n",
      "Antigua and Barbuda                   75.05625\n",
      "                                        ...   \n",
      "Venezuela (Bolivarian Republic of)    73.38750\n",
      "Viet Nam                              74.77500\n",
      "Yemen                                 63.86250\n",
      "Zambia                                53.90625\n",
      "Zimbabwe                              50.48750\n",
      "Name: life_expectancy, Length: 193, dtype: float64\n"
     ]
    }
   ],
   "source": [
    "# Obtengo el promedio por pais\n",
    "prom_pais = df.groupby('Country')['life_expectancy'].mean()\n",
    "print(f'Promedio por pais : {prom_pais}')"
   ]
  },
  {
   "cell_type": "markdown",
   "metadata": {
    "id": "YIopZIPrSck0"
   },
   "source": [
    "14) ¿Cual es la expectativa de vida mas alta y mas baja? Usa la funcion de pandas y la funcion de NumPy y compara el resultado. ¿Que paises tienen esas expectativas de vida?"
   ]
  },
  {
   "cell_type": "code",
   "execution_count": 114,
   "metadata": {
    "id": "gU8js5J8Sck0"
   },
   "outputs": [],
   "source": [
    "# Maxima expectativa de vida usando numpy\n",
    "max_exp_vida = np.max(df['life_expectancy'])"
   ]
  },
  {
   "cell_type": "code",
   "execution_count": 115,
   "metadata": {
    "id": "_JyNdRuESck2"
   },
   "outputs": [],
   "source": [
    "# Maxima expectativa de vida usando pandas\n",
    "max_exp_vidap = expvida['life_expectancy'].max()"
   ]
  },
  {
   "cell_type": "code",
   "execution_count": 118,
   "metadata": {
    "id": "pTCZ9VJXSck4"
   },
   "outputs": [],
   "source": [
    "# Minima expectativa de vida usando numpy\n",
    "min_exp_vidan = np.min(df['life_expectancy'])"
   ]
  },
  {
   "cell_type": "code",
   "execution_count": 119,
   "metadata": {
    "id": "BbJ9nW_LSck6"
   },
   "outputs": [],
   "source": [
    "# Minima expectativa de vida usando pandas\n",
    "min_exp_vida = expvida['life_expectancy'].min()"
   ]
  },
  {
   "cell_type": "code",
   "execution_count": 116,
   "metadata": {
    "id": "R83PS8f8Sck8"
   },
   "outputs": [
    {
     "name": "stdout",
     "output_type": "stream",
     "text": [
      "Max expectativa de vida usando numpy:  89.0\n",
      "Max expectativa de vida usando Pandas:  89.0\n"
     ]
    }
   ],
   "source": [
    "# Muestro los resultados maximos\n",
    "print('Max expectativa de vida usando numpy: ', max_exp_vida)\n",
    "print('Max expectativa de vida usando Pandas: ', max_exp_vidap)"
   ]
  },
  {
   "cell_type": "code",
   "execution_count": 120,
   "metadata": {
    "id": "jUZlYu3BSck_"
   },
   "outputs": [
    {
     "name": "stdout",
     "output_type": "stream",
     "text": [
      "Minima expectativa de vida usando numpy:  36.3\n",
      "Minima expectativa de vida usando Pandas:  36.3\n"
     ]
    }
   ],
   "source": [
    "# Muestro los resultados minimos\n",
    "print('Minima expectativa de vida usando numpy: ', min_exp_vidan)\n",
    "print('Minima expectativa de vida usando Pandas: ', min_exp_vida)"
   ]
  },
  {
   "cell_type": "code",
   "execution_count": 124,
   "metadata": {
    "id": "et_RZ44GSclB"
   },
   "outputs": [
    {
     "data": {
      "text/html": [
       "<div>\n",
       "<style scoped>\n",
       "    .dataframe tbody tr th:only-of-type {\n",
       "        vertical-align: middle;\n",
       "    }\n",
       "\n",
       "    .dataframe tbody tr th {\n",
       "        vertical-align: top;\n",
       "    }\n",
       "\n",
       "    .dataframe thead th {\n",
       "        text-align: right;\n",
       "    }\n",
       "</style>\n",
       "<table border=\"1\" class=\"dataframe\">\n",
       "  <thead>\n",
       "    <tr style=\"text-align: right;\">\n",
       "      <th></th>\n",
       "      <th>Country</th>\n",
       "      <th>Year</th>\n",
       "      <th>Status</th>\n",
       "      <th>life_expectancy</th>\n",
       "      <th>Adult Mortality</th>\n",
       "      <th>infant deaths</th>\n",
       "      <th>Alcohol</th>\n",
       "      <th>percentage expenditure</th>\n",
       "      <th>Hepatitis B</th>\n",
       "      <th>measles</th>\n",
       "      <th>...</th>\n",
       "      <th>Polio</th>\n",
       "      <th>Total expenditure</th>\n",
       "      <th>Diphtheria</th>\n",
       "      <th>HIV/AIDS</th>\n",
       "      <th>GDP</th>\n",
       "      <th>Population</th>\n",
       "      <th>thinness  1-19 years</th>\n",
       "      <th>thinness 5-9 years</th>\n",
       "      <th>Income composition of resources</th>\n",
       "      <th>Schooling</th>\n",
       "    </tr>\n",
       "  </thead>\n",
       "  <tbody>\n",
       "    <tr>\n",
       "      <th>241</th>\n",
       "      <td>Belgium</td>\n",
       "      <td>2014</td>\n",
       "      <td>Developed</td>\n",
       "      <td>89.0</td>\n",
       "      <td>76.0</td>\n",
       "      <td>0</td>\n",
       "      <td>12.60</td>\n",
       "      <td>7163.348923</td>\n",
       "      <td>98.0</td>\n",
       "      <td>70</td>\n",
       "      <td>...</td>\n",
       "      <td>99.0</td>\n",
       "      <td>1.59</td>\n",
       "      <td>99.0</td>\n",
       "      <td>0.1</td>\n",
       "      <td>47439.39684</td>\n",
       "      <td>112957.0</td>\n",
       "      <td>1.0</td>\n",
       "      <td>1.0</td>\n",
       "      <td>0.890</td>\n",
       "      <td>16.3</td>\n",
       "    </tr>\n",
       "    <tr>\n",
       "      <th>915</th>\n",
       "      <td>Finland</td>\n",
       "      <td>2014</td>\n",
       "      <td>Developing</td>\n",
       "      <td>89.0</td>\n",
       "      <td>78.0</td>\n",
       "      <td>0</td>\n",
       "      <td>8.80</td>\n",
       "      <td>6164.455402</td>\n",
       "      <td>NaN</td>\n",
       "      <td>0</td>\n",
       "      <td>...</td>\n",
       "      <td>98.0</td>\n",
       "      <td>9.68</td>\n",
       "      <td>98.0</td>\n",
       "      <td>0.1</td>\n",
       "      <td>49914.61864</td>\n",
       "      <td>5461512.0</td>\n",
       "      <td>0.9</td>\n",
       "      <td>0.8</td>\n",
       "      <td>0.890</td>\n",
       "      <td>17.0</td>\n",
       "    </tr>\n",
       "    <tr>\n",
       "      <th>937</th>\n",
       "      <td>France</td>\n",
       "      <td>2008</td>\n",
       "      <td>Developing</td>\n",
       "      <td>89.0</td>\n",
       "      <td>88.0</td>\n",
       "      <td>3</td>\n",
       "      <td>11.90</td>\n",
       "      <td>7002.785925</td>\n",
       "      <td>47.0</td>\n",
       "      <td>604</td>\n",
       "      <td>...</td>\n",
       "      <td>98.0</td>\n",
       "      <td>1.57</td>\n",
       "      <td>98.0</td>\n",
       "      <td>0.1</td>\n",
       "      <td>45413.65710</td>\n",
       "      <td>6437499.0</td>\n",
       "      <td>0.6</td>\n",
       "      <td>0.6</td>\n",
       "      <td>0.877</td>\n",
       "      <td>16.1</td>\n",
       "    </tr>\n",
       "    <tr>\n",
       "      <th>938</th>\n",
       "      <td>France</td>\n",
       "      <td>2007</td>\n",
       "      <td>Developing</td>\n",
       "      <td>89.0</td>\n",
       "      <td>89.0</td>\n",
       "      <td>3</td>\n",
       "      <td>12.20</td>\n",
       "      <td>64.737149</td>\n",
       "      <td>42.0</td>\n",
       "      <td>39</td>\n",
       "      <td>...</td>\n",
       "      <td>99.0</td>\n",
       "      <td>1.45</td>\n",
       "      <td>98.0</td>\n",
       "      <td>0.1</td>\n",
       "      <td>416.58397</td>\n",
       "      <td>6416229.0</td>\n",
       "      <td>0.6</td>\n",
       "      <td>0.6</td>\n",
       "      <td>0.873</td>\n",
       "      <td>16.1</td>\n",
       "    </tr>\n",
       "    <tr>\n",
       "      <th>995</th>\n",
       "      <td>Germany</td>\n",
       "      <td>2014</td>\n",
       "      <td>Developed</td>\n",
       "      <td>89.0</td>\n",
       "      <td>69.0</td>\n",
       "      <td>2</td>\n",
       "      <td>11.03</td>\n",
       "      <td>941.756291</td>\n",
       "      <td>88.0</td>\n",
       "      <td>443</td>\n",
       "      <td>...</td>\n",
       "      <td>94.0</td>\n",
       "      <td>11.30</td>\n",
       "      <td>95.0</td>\n",
       "      <td>0.1</td>\n",
       "      <td>4792.65288</td>\n",
       "      <td>89825.0</td>\n",
       "      <td>1.1</td>\n",
       "      <td>1.1</td>\n",
       "      <td>0.920</td>\n",
       "      <td>17.0</td>\n",
       "    </tr>\n",
       "    <tr>\n",
       "      <th>1293</th>\n",
       "      <td>Italy</td>\n",
       "      <td>2004</td>\n",
       "      <td>Developed</td>\n",
       "      <td>89.0</td>\n",
       "      <td>66.0</td>\n",
       "      <td>2</td>\n",
       "      <td>8.98</td>\n",
       "      <td>4270.914882</td>\n",
       "      <td>96.0</td>\n",
       "      <td>599</td>\n",
       "      <td>...</td>\n",
       "      <td>97.0</td>\n",
       "      <td>8.49</td>\n",
       "      <td>94.0</td>\n",
       "      <td>0.1</td>\n",
       "      <td>31174.56118</td>\n",
       "      <td>57685327.0</td>\n",
       "      <td>0.5</td>\n",
       "      <td>0.5</td>\n",
       "      <td>0.846</td>\n",
       "      <td>15.6</td>\n",
       "    </tr>\n",
       "    <tr>\n",
       "      <th>1850</th>\n",
       "      <td>New Zealand</td>\n",
       "      <td>2010</td>\n",
       "      <td>Developed</td>\n",
       "      <td>89.0</td>\n",
       "      <td>71.0</td>\n",
       "      <td>0</td>\n",
       "      <td>9.62</td>\n",
       "      <td>6664.148708</td>\n",
       "      <td>9.0</td>\n",
       "      <td>43</td>\n",
       "      <td>...</td>\n",
       "      <td>93.0</td>\n",
       "      <td>11.20</td>\n",
       "      <td>93.0</td>\n",
       "      <td>0.1</td>\n",
       "      <td>33691.34837</td>\n",
       "      <td>NaN</td>\n",
       "      <td>0.3</td>\n",
       "      <td>0.3</td>\n",
       "      <td>0.899</td>\n",
       "      <td>20.3</td>\n",
       "    </tr>\n",
       "    <tr>\n",
       "      <th>1916</th>\n",
       "      <td>Norway</td>\n",
       "      <td>2009</td>\n",
       "      <td>Developed</td>\n",
       "      <td>89.0</td>\n",
       "      <td>67.0</td>\n",
       "      <td>0</td>\n",
       "      <td>6.68</td>\n",
       "      <td>142.374943</td>\n",
       "      <td>NaN</td>\n",
       "      <td>2</td>\n",
       "      <td>...</td>\n",
       "      <td>94.0</td>\n",
       "      <td>9.49</td>\n",
       "      <td>94.0</td>\n",
       "      <td>0.1</td>\n",
       "      <td>817.77681</td>\n",
       "      <td>4828726.0</td>\n",
       "      <td>0.7</td>\n",
       "      <td>0.7</td>\n",
       "      <td>0.936</td>\n",
       "      <td>17.4</td>\n",
       "    </tr>\n",
       "    <tr>\n",
       "      <th>2056</th>\n",
       "      <td>Portugal</td>\n",
       "      <td>2014</td>\n",
       "      <td>Developed</td>\n",
       "      <td>89.0</td>\n",
       "      <td>78.0</td>\n",
       "      <td>0</td>\n",
       "      <td>9.88</td>\n",
       "      <td>271.254553</td>\n",
       "      <td>98.0</td>\n",
       "      <td>0</td>\n",
       "      <td>...</td>\n",
       "      <td>98.0</td>\n",
       "      <td>9.50</td>\n",
       "      <td>98.0</td>\n",
       "      <td>0.1</td>\n",
       "      <td>2277.53613</td>\n",
       "      <td>14162.0</td>\n",
       "      <td>0.7</td>\n",
       "      <td>0.5</td>\n",
       "      <td>0.837</td>\n",
       "      <td>16.8</td>\n",
       "    </tr>\n",
       "    <tr>\n",
       "      <th>2433</th>\n",
       "      <td>Spain</td>\n",
       "      <td>2007</td>\n",
       "      <td>Developed</td>\n",
       "      <td>89.0</td>\n",
       "      <td>72.0</td>\n",
       "      <td>2</td>\n",
       "      <td>11.05</td>\n",
       "      <td>510.932701</td>\n",
       "      <td>96.0</td>\n",
       "      <td>267</td>\n",
       "      <td>...</td>\n",
       "      <td>96.0</td>\n",
       "      <td>8.36</td>\n",
       "      <td>96.0</td>\n",
       "      <td>0.1</td>\n",
       "      <td>3279.41400</td>\n",
       "      <td>4522683.0</td>\n",
       "      <td>0.6</td>\n",
       "      <td>0.5</td>\n",
       "      <td>0.849</td>\n",
       "      <td>16.0</td>\n",
       "    </tr>\n",
       "    <tr>\n",
       "      <th>2513</th>\n",
       "      <td>Sweden</td>\n",
       "      <td>2007</td>\n",
       "      <td>Developed</td>\n",
       "      <td>89.0</td>\n",
       "      <td>63.0</td>\n",
       "      <td>0</td>\n",
       "      <td>6.90</td>\n",
       "      <td>7593.391622</td>\n",
       "      <td>NaN</td>\n",
       "      <td>1</td>\n",
       "      <td>...</td>\n",
       "      <td>98.0</td>\n",
       "      <td>8.92</td>\n",
       "      <td>98.0</td>\n",
       "      <td>0.1</td>\n",
       "      <td>53324.37937</td>\n",
       "      <td>914892.0</td>\n",
       "      <td>1.3</td>\n",
       "      <td>1.3</td>\n",
       "      <td>0.895</td>\n",
       "      <td>15.8</td>\n",
       "    </tr>\n",
       "  </tbody>\n",
       "</table>\n",
       "<p>11 rows × 22 columns</p>\n",
       "</div>"
      ],
      "text/plain": [
       "          Country  Year      Status  life_expectancy  Adult Mortality  \\\n",
       "241       Belgium  2014   Developed             89.0             76.0   \n",
       "915       Finland  2014  Developing             89.0             78.0   \n",
       "937        France  2008  Developing             89.0             88.0   \n",
       "938        France  2007  Developing             89.0             89.0   \n",
       "995       Germany  2014   Developed             89.0             69.0   \n",
       "1293        Italy  2004   Developed             89.0             66.0   \n",
       "1850  New Zealand  2010   Developed             89.0             71.0   \n",
       "1916       Norway  2009   Developed             89.0             67.0   \n",
       "2056     Portugal  2014   Developed             89.0             78.0   \n",
       "2433        Spain  2007   Developed             89.0             72.0   \n",
       "2513       Sweden  2007   Developed             89.0             63.0   \n",
       "\n",
       "      infant deaths  Alcohol  percentage expenditure  Hepatitis B  measles  \\\n",
       "241               0    12.60             7163.348923         98.0       70   \n",
       "915               0     8.80             6164.455402          NaN        0   \n",
       "937               3    11.90             7002.785925         47.0      604   \n",
       "938               3    12.20               64.737149         42.0       39   \n",
       "995               2    11.03              941.756291         88.0      443   \n",
       "1293              2     8.98             4270.914882         96.0      599   \n",
       "1850              0     9.62             6664.148708          9.0       43   \n",
       "1916              0     6.68              142.374943          NaN        2   \n",
       "2056              0     9.88              271.254553         98.0        0   \n",
       "2433              2    11.05              510.932701         96.0      267   \n",
       "2513              0     6.90             7593.391622          NaN        1   \n",
       "\n",
       "      ...  Polio  Total expenditure  Diphtheria    HIV/AIDS          GDP  \\\n",
       "241   ...   99.0               1.59         99.0        0.1  47439.39684   \n",
       "915   ...   98.0               9.68         98.0        0.1  49914.61864   \n",
       "937   ...   98.0               1.57         98.0        0.1  45413.65710   \n",
       "938   ...   99.0               1.45         98.0        0.1    416.58397   \n",
       "995   ...   94.0              11.30         95.0        0.1   4792.65288   \n",
       "1293  ...   97.0               8.49         94.0        0.1  31174.56118   \n",
       "1850  ...   93.0              11.20         93.0        0.1  33691.34837   \n",
       "1916  ...   94.0               9.49         94.0        0.1    817.77681   \n",
       "2056  ...   98.0               9.50         98.0        0.1   2277.53613   \n",
       "2433  ...   96.0               8.36         96.0        0.1   3279.41400   \n",
       "2513  ...   98.0               8.92         98.0        0.1  53324.37937   \n",
       "\n",
       "      Population   thinness  1-19 years   thinness 5-9 years  \\\n",
       "241     112957.0                    1.0                  1.0   \n",
       "915    5461512.0                    0.9                  0.8   \n",
       "937    6437499.0                    0.6                  0.6   \n",
       "938    6416229.0                    0.6                  0.6   \n",
       "995      89825.0                    1.1                  1.1   \n",
       "1293  57685327.0                    0.5                  0.5   \n",
       "1850         NaN                    0.3                  0.3   \n",
       "1916   4828726.0                    0.7                  0.7   \n",
       "2056     14162.0                    0.7                  0.5   \n",
       "2433   4522683.0                    0.6                  0.5   \n",
       "2513    914892.0                    1.3                  1.3   \n",
       "\n",
       "      Income composition of resources  Schooling  \n",
       "241                             0.890       16.3  \n",
       "915                             0.890       17.0  \n",
       "937                             0.877       16.1  \n",
       "938                             0.873       16.1  \n",
       "995                             0.920       17.0  \n",
       "1293                            0.846       15.6  \n",
       "1850                            0.899       20.3  \n",
       "1916                            0.936       17.4  \n",
       "2056                            0.837       16.8  \n",
       "2433                            0.849       16.0  \n",
       "2513                            0.895       15.8  \n",
       "\n",
       "[11 rows x 22 columns]"
      ]
     },
     "execution_count": 124,
     "metadata": {},
     "output_type": "execute_result"
    }
   ],
   "source": [
    "# Filtro las columnas para mostrar solo las filas que tengan valor\n",
    "# igual al maximo\n",
    "filas_maximo = df.loc[df['life_expectancy'] == max_exp_vida]\n",
    "filas_maximo"
   ]
  },
  {
   "cell_type": "code",
   "execution_count": 125,
   "metadata": {
    "id": "IQnm1-44SclE"
   },
   "outputs": [
    {
     "data": {
      "text/html": [
       "<div>\n",
       "<style scoped>\n",
       "    .dataframe tbody tr th:only-of-type {\n",
       "        vertical-align: middle;\n",
       "    }\n",
       "\n",
       "    .dataframe tbody tr th {\n",
       "        vertical-align: top;\n",
       "    }\n",
       "\n",
       "    .dataframe thead th {\n",
       "        text-align: right;\n",
       "    }\n",
       "</style>\n",
       "<table border=\"1\" class=\"dataframe\">\n",
       "  <thead>\n",
       "    <tr style=\"text-align: right;\">\n",
       "      <th></th>\n",
       "      <th>Country</th>\n",
       "      <th>Year</th>\n",
       "      <th>Status</th>\n",
       "      <th>life_expectancy</th>\n",
       "      <th>Adult Mortality</th>\n",
       "      <th>infant deaths</th>\n",
       "      <th>Alcohol</th>\n",
       "      <th>percentage expenditure</th>\n",
       "      <th>Hepatitis B</th>\n",
       "      <th>measles</th>\n",
       "      <th>...</th>\n",
       "      <th>Polio</th>\n",
       "      <th>Total expenditure</th>\n",
       "      <th>Diphtheria</th>\n",
       "      <th>HIV/AIDS</th>\n",
       "      <th>GDP</th>\n",
       "      <th>Population</th>\n",
       "      <th>thinness  1-19 years</th>\n",
       "      <th>thinness 5-9 years</th>\n",
       "      <th>Income composition of resources</th>\n",
       "      <th>Schooling</th>\n",
       "    </tr>\n",
       "  </thead>\n",
       "  <tbody>\n",
       "    <tr>\n",
       "      <th>1127</th>\n",
       "      <td>Haiti</td>\n",
       "      <td>2010</td>\n",
       "      <td>Developing</td>\n",
       "      <td>36.3</td>\n",
       "      <td>682.0</td>\n",
       "      <td>23</td>\n",
       "      <td>5.76</td>\n",
       "      <td>36.292918</td>\n",
       "      <td>NaN</td>\n",
       "      <td>0</td>\n",
       "      <td>...</td>\n",
       "      <td>66.0</td>\n",
       "      <td>8.9</td>\n",
       "      <td>66.0</td>\n",
       "      <td>1.9</td>\n",
       "      <td>662.279518</td>\n",
       "      <td>9999617.0</td>\n",
       "      <td>4.0</td>\n",
       "      <td>4.0</td>\n",
       "      <td>0.47</td>\n",
       "      <td>8.6</td>\n",
       "    </tr>\n",
       "  </tbody>\n",
       "</table>\n",
       "<p>1 rows × 22 columns</p>\n",
       "</div>"
      ],
      "text/plain": [
       "     Country  Year      Status  life_expectancy  Adult Mortality  \\\n",
       "1127   Haiti  2010  Developing             36.3            682.0   \n",
       "\n",
       "      infant deaths  Alcohol  percentage expenditure  Hepatitis B  measles  \\\n",
       "1127             23     5.76               36.292918          NaN        0   \n",
       "\n",
       "      ...  Polio  Total expenditure  Diphtheria    HIV/AIDS         GDP  \\\n",
       "1127  ...   66.0                8.9         66.0        1.9  662.279518   \n",
       "\n",
       "      Population   thinness  1-19 years   thinness 5-9 years  \\\n",
       "1127   9999617.0                    4.0                  4.0   \n",
       "\n",
       "      Income composition of resources  Schooling  \n",
       "1127                             0.47        8.6  \n",
       "\n",
       "[1 rows x 22 columns]"
      ]
     },
     "execution_count": 125,
     "metadata": {},
     "output_type": "execute_result"
    }
   ],
   "source": [
    "# Filtro las columnas para mostrar solo las filas que tengan valor\n",
    "# igual al minimo\n",
    "filas_minimo = df.loc[df['life_expectancy'] == min_exp_vida]\n",
    "filas_minimo"
   ]
  },
  {
   "cell_type": "markdown",
   "metadata": {
    "id": "mk_q0UUdSclq"
   },
   "source": [
    "15) ¿Cuantas categorias encontramos en la columna \"Status\"? _**Pista**_: Lee acerca de la función [unique()](http://pandas.pydata.org/pandas-docs/stable/reference/api/pandas.Series.unique.html?highlight=unique#pandas.Series.unique)"
   ]
  },
  {
   "cell_type": "code",
   "execution_count": 127,
   "metadata": {
    "id": "HA2tDgWVSclq"
   },
   "outputs": [
    {
     "data": {
      "text/plain": [
       "array(['Developing', 'Developed'], dtype=object)"
      ]
     },
     "execution_count": 127,
     "metadata": {},
     "output_type": "execute_result"
    }
   ],
   "source": [
    "# Obtengo los valores unicos de la columna status\n",
    "expvida['Status'].unique()"
   ]
  },
  {
   "cell_type": "markdown",
   "metadata": {
    "id": "ps0WfRElSclu"
   },
   "source": [
    "16) ¿Cuantos paises se ubican en cada una de esas categorias de \"Status\"? _**Pista**_: Lee acerca de la función [value_counts()](http://pandas.pydata.org/pandas-docs/stable/reference/api/pandas.Series.value_counts.html)"
   ]
  },
  {
   "cell_type": "code",
   "execution_count": 134,
   "metadata": {
    "id": "a8zkd7TTSclw"
   },
   "outputs": [
    {
     "data": {
      "text/plain": [
       "Status\n",
       "Developing    2426\n",
       "Developed      512\n",
       "Name: count, dtype: int64"
      ]
     },
     "execution_count": 134,
     "metadata": {},
     "output_type": "execute_result"
    }
   ],
   "source": [
    "# Cuento cuantos valores hay de cada categoria\n",
    "pais_status = expvida['Status'].value_counts()\n",
    "pais_status"
   ]
  },
  {
   "cell_type": "markdown",
   "metadata": {
    "id": "IFvTsLnQSclz"
   },
   "source": [
    "18) ¿Cuantos paises presentaron algun caso de Sarampion (**Measles**) en el 2015? **_Pista_**: Lee acerca de la función [.count()](http://pandas.pydata.org/pandas-docs/stable/reference/api/pandas.DataFrame.count.html?highlight=count#pandas.DataFrame.count)"
   ]
  },
  {
   "cell_type": "code",
   "execution_count": 137,
   "metadata": {
    "id": "qOyyukGmSclz"
   },
   "outputs": [],
   "source": [
    "# Cuento cuantas filas tienen valores distintos de cero\n",
    "sarampion_2015 = expvida[(expvida['Year'] == 2015) & (expvida['measles'] > 0)]"
   ]
  },
  {
   "cell_type": "code",
   "execution_count": 139,
   "metadata": {
    "id": "aFaOi_mmScl2"
   },
   "outputs": [
    {
     "data": {
      "text/plain": [
       "121"
      ]
     },
     "execution_count": 139,
     "metadata": {},
     "output_type": "execute_result"
    }
   ],
   "source": [
    "sarampion_2015['Country'].count()"
   ]
  }
 ],
 "metadata": {
  "colab": {
   "provenance": []
  },
  "kernelspec": {
   "display_name": "Python 3 (ipykernel)",
   "language": "python",
   "name": "python3"
  },
  "language_info": {
   "codemirror_mode": {
    "name": "ipython",
    "version": 3
   },
   "file_extension": ".py",
   "mimetype": "text/x-python",
   "name": "python",
   "nbconvert_exporter": "python",
   "pygments_lexer": "ipython3",
   "version": "3.12.3"
  }
 },
 "nbformat": 4,
 "nbformat_minor": 4
}
